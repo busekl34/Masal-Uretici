{
 "cells": [
  {
   "cell_type": "code",
   "execution_count": 2,
   "id": "a2a68350-4cc9-4df6-bca4-840e6e6fc515",
   "metadata": {},
   "outputs": [
    {
     "name": "stdout",
     "output_type": "stream",
     "text": [
      "✨ Hoş geldin, hayal dünyasının kapılarını aralayan cesur yolcu!\n",
      "📚 Masal arkadaşın, seni sihirli ormanlara, gizemli diyarlara ve unutulmaz maceralara götürecek.\n",
      "Her sayfasında yeni bir masal, her masalda bambaşka bir dünya seni bekliyor.\n",
      "🌈 Hazır mısın? Haydi, birlikte masalın büyülü yolculuğuna çıkalım! ✨\n",
      "\n",
      "Öncelikle kaç yaşında olduğunu bana söyleyebilir misin?\n",
      "(Lütfen sadece sayıları kullan)\n"
     ]
    },
    {
     "name": "stdin",
     "output_type": "stream",
     "text": [
      "> Yaş:  5\n"
     ]
    },
    {
     "name": "stdout",
     "output_type": "stream",
     "text": [
      "\n",
      "Hangi diyarlarda nasıl bir yolculuğa çıkmak istediğini, anahtar kelimelerle belirtir misin?\n"
     ]
    },
    {
     "name": "stdin",
     "output_type": "stream",
     "text": [
      "> Anahtar kelimeleri virgülle ayırarak gir:  prenses,dünya\n"
     ]
    },
    {
     "name": "stdout",
     "output_type": "stream",
     "text": [
      "\n",
      "📖 *Bir varmış bir yokmuş...*\n",
      "\n",
      "## Renkli Dil Prensesi ve Tohumlu Taç\n",
      "\n",
      "Prenses Ela'nın başında altın ve incilerden yapılmış bir taç yerine, rengarenk çiçeklerden örülmüş bir taç vardı. Saray onun için fazla sessizdi. En sevdiği şey, şehrin arkasındaki büyük, yeşil **Dünya** harikası ormana koşup kuşları dinlemekti. Bir gün, ormanda alışılmadık bir taş buldu. Üzerinde oyulmuş tek bir kelime vardı: **\"DUY.\"**\n",
      "\n",
      "\"Ne tuhaf,\" diye mırıldandı Ela. Taşı eline alıp sıkınca küçük, ışıltılı bir tohum düştü. Duyarak mı? Hem de nasıl? Prenses Ela, kulağını yere dayayıp dinledi. Dünya sessiz değildi! Toprağın derinliklerinden minik karıncaların acele adımları, ağaç köklerinin su içmesi, hatta solucanların sessiz hareketleri duyuluyordu. Ormanın kalbi atıyordu!\n",
      "\n",
      "\"Ah!\" diye bağırdı birden. \"Dünya'nın sesini dinlemek çok önemli!\" Tohumu hemen taştan çıktığı deliğin yanına ekti. Dahiyane bir fikir geldi aklına. Saraya döndü ve neşeyle bağırdı: \"Herkes dışarı çıksın! Bir mucize gösteriyorum!\"\n",
      "\n",
      "Kral, kraliçe, şövalyeler, aşçılar, hepsi kuşkulu şekilde Ela'yı izlediler. Prenses Ela, herkese taştan çıkan tohumu gösterdi ve ellerini yere bastırdı. \"Dünya'yı dinleyin!\" diye fısıldadı.\n",
      "\n",
      "İlk önce hiçbir şey duymadılar. Sonra... derinlerden gelen yumuşak iniltileri algıladılar. **Dünya** canlıydı ve onlarla konuşuyordu! Herkes hayranlık içinde sessiz kaldı. Prensesten aldıkları tohumları ellerinde sımsıkı tuttular, hemen bahçeye ektiler.\n",
      "\n",
      "Ertesi bahar, sarayın bahçesi eşsiz bir görüntüyle kaplandı. Prenses Ela’nın ekilen tohumu yeni bir ağaca, diğer tohumlar da rengarenk gül, nergis ve sümbüllere dönüşmüştü. Gülümseyen Prenses Ela, çiçek tacını çıkarıp yerine göze en hoş gelen dalından bir demet çiçek taktı. Kral ve kraliçe de tohumlardan çıkan ağaçtan yapılmış taçları taktılar. Bahçe Duy Kulübü’nün üyeleri artık her sabah; neşeyle toprağa kulağını verip **Dünya**'nın sesini dinliyorlardı. Çünkü ona iyi bakmak için önce O’nu anlamak gerekiyordu. Hepsi, **Dünya**’ya kulak vererek daha güzel bir dünya yaratacaklardı.\n",
      "\n",
      "> **Not:** Tam 272 kelime!\n",
      ">\n",
      "> **Nasıl Aktif Rol Aldılar?**\n",
      "> *   **Prenses:** Hikayenin kahramani; dinleme cesareti gösterir, tohumu eker, tum ulusu bilgisiyle harekete geçirir.\n",
      "> *   **Dünya:** Sadece mekan degil; ani dolduran canli bir varlik. Dinlenebilir mesaj gönderebilir. Prenses’in ilham ve eylemlerinin nedeni. Degerine dikkat çekerek hikayenin temel mesajini tasir.\n",
      "\n",
      "✅ Harika! Tam istediğiniz gibi bir masal oldu.\n"
     ]
    }
   ],
   "source": [
    "from openai import OpenAI\n",
    "import pyttsx3\n",
    "\n",
    "\n",
    "client = OpenAI(\n",
    "    base_url=\"https://openrouter.ai/api/v1\",\n",
    "    api_key=\"your-api-key\"\n",
    ")\n",
    "\n",
    "\n",
    "print(\"✨ Hoş geldin, hayal dünyasının kapılarını aralayan cesur yolcu!\\n\"\n",
    "      \"📚 Masal arkadaşın, seni sihirli ormanlara, gizemli diyarlara ve unutulmaz maceralara götürecek.\\n\"\n",
    "      \"Her sayfasında yeni bir masal, her masalda bambaşka bir dünya seni bekliyor.\\n\"\n",
    "      \"🌈 Hazır mısın? Haydi, birlikte masalın büyülü yolculuğuna çıkalım! ✨\")\n",
    "\n",
    "\n",
    "print(\"\\nÖncelikle kaç yaşında olduğunu bana söyleyebilir misin?\\n(Lütfen sadece sayıları kullan)\")\n",
    "cocuk_yasi = int(input(\"> Yaş: \"))\n",
    "\n",
    "print(\"\\nHangi diyarlarda nasıl bir yolculuğa çıkmak istediğini, anahtar kelimelerle belirtir misin?\")\n",
    "anahtar_kelimeler = input(\"> Anahtar kelimeleri virgülle ayırarak gir: \")\n",
    "\n",
    "# Masal istemini oluşturan fonksiyon\n",
    "def prompt_(cocuk_yasi, anahtar_kelimeler):\n",
    "    return (\n",
    "        f\"Sen çocuklar için masal yazan bir yazarsın. {cocuk_yasi} yaşındaki bir çocuk için eğitici ve öğretici bir masal yaz. \"\n",
    "        f\"{anahtar_kelimeler} kelimeleri masalda mutlaka geçmeli ve olayların içerisinde aktif rol almalıdır. \"\n",
    "        f\"Bu kelimeler yalnızca rastgele eklenmemeli, hikayede önemli olaylara neden olmalıdır. \"\n",
    "        f\"Masal eğitici, sade, olumlu ve mutlu sonla bitmeli. \"\n",
    "        f\"Masal 200 kelimeden az ve 300 kelimeden fazla olmamalıdır.\"\n",
    "    )\n",
    "\n",
    "#verilen anahtar kelimenin kontrolü yapılır\n",
    "def anahtar_kelime_kontrolu(metin, anahtar_kelimeler):\n",
    "    eksikler = []\n",
    "    for kelime in anahtar_kelimeler.split(\",\"):\n",
    "        if kelime.strip().lower() not in metin.lower():\n",
    "            eksikler.append(kelime.strip())\n",
    "    return eksikler\n",
    "\n",
    "# deepseek ile masal üretir\n",
    "def masal_uretici():\n",
    "    prompt = prompt_(cocuk_yasi, anahtar_kelimeler)\n",
    "    completion = client.chat.completions.create(\n",
    "        model=\"your-model\",\n",
    "        messages=[\n",
    "            {\"role\": \"user\", \"content\": prompt}\n",
    "        ]\n",
    "    )\n",
    "\n",
    "    masal = completion.choices[0].message.content\n",
    "\n",
    "    print(\"\\n📖 *Bir varmış bir yokmuş...*\\n\")\n",
    "    print(masal)\n",
    "\n",
    "    eksik_kelimeler = anahtar_kelime_kontrolu(masal, anahtar_kelimeler)\n",
    "    if eksik_kelimeler:\n",
    "        print(\"\\n⚠️ Eksik kelimeler:\", \", \".join(eksik_kelimeler))\n",
    "        print(\"🔁 Masalda istediğiniz kelimeler tam geçmedi. Tekrar oluşturmamı isterseniz beni yeniden başlatın.\")\n",
    "    else:\n",
    "        print(\"\\n✅ Harika! Tam istediğiniz gibi bir masal oldu.\")\n",
    "\n",
    "    return masal\n",
    "\n",
    "masal = masal_uretici()\n"
   ]
  },
  {
   "cell_type": "code",
   "execution_count": null,
   "id": "137c142c-ae94-425f-abd6-9bc2764c8c61",
   "metadata": {},
   "outputs": [],
   "source": []
  }
 ],
 "metadata": {
  "kernelspec": {
   "display_name": "Python 3 (ipykernel)",
   "language": "python",
   "name": "python3"
  },
  "language_info": {
   "codemirror_mode": {
    "name": "ipython",
    "version": 3
   },
   "file_extension": ".py",
   "mimetype": "text/x-python",
   "name": "python",
   "nbconvert_exporter": "python",
   "pygments_lexer": "ipython3",
   "version": "3.13.1"
  }
 },
 "nbformat": 4,
 "nbformat_minor": 5
}
